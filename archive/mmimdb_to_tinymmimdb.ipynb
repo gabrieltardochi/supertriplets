{
 "cells": [
  {
   "cell_type": "code",
   "execution_count": 100,
   "metadata": {},
   "outputs": [],
   "source": [
    "import pandas as pd\n",
    "import numpy as np\n",
    "import json\n",
    "from tqdm import tqdm"
   ]
  },
  {
   "cell_type": "code",
   "execution_count": 13,
   "metadata": {},
   "outputs": [
    {
     "data": {
      "text/plain": [
       "(dict_keys(['train', 'dev', 'test']),\n",
       " ['0106714',\n",
       "  '0204504',\n",
       "  '1865357',\n",
       "  '0033804',\n",
       "  '0066423',\n",
       "  '0045130',\n",
       "  '0114323',\n",
       "  '0087983',\n",
       "  '0185014',\n",
       "  '1117523'])"
      ]
     },
     "execution_count": 13,
     "metadata": {},
     "output_type": "execute_result"
    }
   ],
   "source": [
    "splits = json.load(open('tests/data/mmimdb/split.json'))\n",
    "splits.keys(), splits['train'][:10]"
   ]
  },
  {
   "cell_type": "code",
   "execution_count": 17,
   "metadata": {},
   "outputs": [
    {
     "name": "stdout",
     "output_type": "stream",
     "text": [
      "train: len(v)=15552\n",
      "dev: len(v)=2608\n",
      "test: len(v)=7799\n"
     ]
    }
   ],
   "source": [
    "for k, v in splits.items():\n",
    "    print(f\"{k}: {len(v)=}\")"
   ]
  },
  {
   "cell_type": "code",
   "execution_count": 45,
   "metadata": {},
   "outputs": [
    {
     "name": "stderr",
     "output_type": "stream",
     "text": [
      "100%|██████████| 15552/15552 [00:57<00:00, 269.33it/s]\n",
      "100%|██████████| 2608/2608 [00:22<00:00, 116.32it/s]\n",
      "100%|██████████| 7799/7799 [01:06<00:00, 116.79it/s]\n"
     ]
    }
   ],
   "source": [
    "use_keys = ['title', 'kind', 'rating', 'votes', 'genres', 'plot', 'plot outline']\n",
    "data = []\n",
    "for sample_id in tqdm(splits['train']):\n",
    "    item = json.load(open(f'tests/data/mmimdb/dataset/{sample_id}.json'))\n",
    "    item = {k: item[k] for k in use_keys if k in item}\n",
    "    item.update({\"split\": \"train\", \"id\": sample_id})\n",
    "    data.append(item)\n",
    "for sample_id in tqdm(splits['dev']):\n",
    "    item = json.load(open(f'tests/data/mmimdb/dataset/{sample_id}.json'))\n",
    "    item = {k: item[k] for k in use_keys if k in item}\n",
    "    item.update({\"split\": \"dev\", \"id\": sample_id})\n",
    "    data.append(item)\n",
    "for sample_id in tqdm(splits['test']):\n",
    "    item = json.load(open(f'tests/data/mmimdb/dataset/{sample_id}.json'))\n",
    "    item = {k: item[k] for k in use_keys if k in item}\n",
    "    item.update({\"split\": \"test\", \"id\": sample_id})\n",
    "    data.append(item)"
   ]
  },
  {
   "cell_type": "code",
   "execution_count": 47,
   "metadata": {},
   "outputs": [],
   "source": [
    "df = pd.DataFrame(data)"
   ]
  },
  {
   "cell_type": "code",
   "execution_count": 49,
   "metadata": {},
   "outputs": [
    {
     "data": {
      "text/plain": [
       "title           0\n",
       "kind            0\n",
       "rating          4\n",
       "votes           4\n",
       "genres          0\n",
       "plot            0\n",
       "plot outline    2\n",
       "split           0\n",
       "id              0\n",
       "dtype: int64"
      ]
     },
     "execution_count": 49,
     "metadata": {},
     "output_type": "execute_result"
    }
   ],
   "source": [
    "df.isna().sum()"
   ]
  },
  {
   "cell_type": "code",
   "execution_count": 52,
   "metadata": {},
   "outputs": [
    {
     "data": {
      "image/png": "[encoded data removed]",
      "text/plain": [
       "<Figure size 640x480 with 1 Axes>"
      ]
     },
     "metadata": {},
     "output_type": "display_data"
    }
   ],
   "source": [
    "df.rating.hist();"
   ]
  },
  {
   "cell_type": "code",
   "execution_count": 55,
   "metadata": {},
   "outputs": [
    {
     "data": {
      "image/png": "[encoded data removed]",
      "text/plain": [
       "<Figure size 640x480 with 1 Axes>"
      ]
     },
     "metadata": {},
     "output_type": "display_data"
    }
   ],
   "source": [
    "df.votes.hist(bins=100);"
   ]
  },
  {
   "cell_type": "code",
   "execution_count": 65,
   "metadata": {},
   "outputs": [
    {
     "data": {
      "text/plain": [
       "44427.20000000009"
      ]
     },
     "execution_count": 65,
     "metadata": {},
     "output_type": "execute_result"
    }
   ],
   "source": [
    "df.votes.quantile(0.9)"
   ]
  },
  {
   "cell_type": "code",
   "execution_count": 64,
   "metadata": {},
   "outputs": [
    {
     "data": {
      "text/html": [
       "<div>\n",
       "<style scoped>\n",
       "    .dataframe tbody tr th:only-of-type {\n",
       "        vertical-align: middle;\n",
       "    }\n",
       "\n",
       "    .dataframe tbody tr th {\n",
       "        vertical-align: top;\n",
       "    }\n",
       "\n",
       "    .dataframe thead th {\n",
       "        text-align: right;\n",
       "    }\n",
       "</style>\n",
       "<table border=\"1\" class=\"dataframe\">\n",
       "  <thead>\n",
       "    <tr style=\"text-align: right;\">\n",
       "      <th></th>\n",
       "      <th>title</th>\n",
       "      <th>votes</th>\n",
       "      <th>genres</th>\n",
       "    </tr>\n",
       "  </thead>\n",
       "  <tbody>\n",
       "    <tr>\n",
       "      <th>8707</th>\n",
       "      <td>The Shawshank Redemption</td>\n",
       "      <td>1680289.0</td>\n",
       "      <td>[Crime, Drama]</td>\n",
       "    </tr>\n",
       "    <tr>\n",
       "      <th>14755</th>\n",
       "      <td>The Dark Knight</td>\n",
       "      <td>1665309.0</td>\n",
       "      <td>[Action, Adventure, Crime, Drama, Thriller]</td>\n",
       "    </tr>\n",
       "    <tr>\n",
       "      <th>15514</th>\n",
       "      <td>Inception</td>\n",
       "      <td>1458826.0</td>\n",
       "      <td>[Action, Adventure, Sci-Fi, Thriller]</td>\n",
       "    </tr>\n",
       "    <tr>\n",
       "      <th>3791</th>\n",
       "      <td>Fight Club</td>\n",
       "      <td>1339192.0</td>\n",
       "      <td>[Drama]</td>\n",
       "    </tr>\n",
       "    <tr>\n",
       "      <th>11226</th>\n",
       "      <td>Pulp Fiction</td>\n",
       "      <td>1316986.0</td>\n",
       "      <td>[Crime, Drama]</td>\n",
       "    </tr>\n",
       "    <tr>\n",
       "      <th>...</th>\n",
       "      <td>...</td>\n",
       "      <td>...</td>\n",
       "      <td>...</td>\n",
       "    </tr>\n",
       "    <tr>\n",
       "      <th>24699</th>\n",
       "      <td>alaskaLand</td>\n",
       "      <td>5.0</td>\n",
       "      <td>[Drama]</td>\n",
       "    </tr>\n",
       "    <tr>\n",
       "      <th>10171</th>\n",
       "      <td>The Great Gatsby</td>\n",
       "      <td>NaN</td>\n",
       "      <td>[Drama]</td>\n",
       "    </tr>\n",
       "    <tr>\n",
       "      <th>12073</th>\n",
       "      <td>Sun Kissed</td>\n",
       "      <td>NaN</td>\n",
       "      <td>[Documentary]</td>\n",
       "    </tr>\n",
       "    <tr>\n",
       "      <th>20265</th>\n",
       "      <td>A Hand of Peace: Pope Pius XII and the Holocaust</td>\n",
       "      <td>NaN</td>\n",
       "      <td>[Documentary]</td>\n",
       "    </tr>\n",
       "    <tr>\n",
       "      <th>23770</th>\n",
       "      <td>Double Solitaire</td>\n",
       "      <td>NaN</td>\n",
       "      <td>[Drama]</td>\n",
       "    </tr>\n",
       "  </tbody>\n",
       "</table>\n",
       "<p>25959 rows × 3 columns</p>\n",
       "</div>"
      ],
      "text/plain": [
       "                                                  title      votes  \\\n",
       "8707                           The Shawshank Redemption  1680289.0   \n",
       "14755                                   The Dark Knight  1665309.0   \n",
       "15514                                         Inception  1458826.0   \n",
       "3791                                         Fight Club  1339192.0   \n",
       "11226                                      Pulp Fiction  1316986.0   \n",
       "...                                                 ...        ...   \n",
       "24699                                        alaskaLand        5.0   \n",
       "10171                                  The Great Gatsby        NaN   \n",
       "12073                                        Sun Kissed        NaN   \n",
       "20265  A Hand of Peace: Pope Pius XII and the Holocaust        NaN   \n",
       "23770                                  Double Solitaire        NaN   \n",
       "\n",
       "                                            genres  \n",
       "8707                                [Crime, Drama]  \n",
       "14755  [Action, Adventure, Crime, Drama, Thriller]  \n",
       "15514        [Action, Adventure, Sci-Fi, Thriller]  \n",
       "3791                                       [Drama]  \n",
       "11226                               [Crime, Drama]  \n",
       "...                                            ...  \n",
       "24699                                      [Drama]  \n",
       "10171                                      [Drama]  \n",
       "12073                                [Documentary]  \n",
       "20265                                [Documentary]  \n",
       "23770                                      [Drama]  \n",
       "\n",
       "[25959 rows x 3 columns]"
      ]
     },
     "execution_count": 64,
     "metadata": {},
     "output_type": "execute_result"
    }
   ],
   "source": [
    "df[['title', 'votes', 'genres']].sort_values(by='votes', ascending=False)"
   ]
  },
  {
   "cell_type": "code",
   "execution_count": 68,
   "metadata": {},
   "outputs": [
    {
     "data": {
      "image/png": "[encoded data removed]",
      "text/plain": [
       "<Figure size 640x480 with 1 Axes>"
      ]
     },
     "metadata": {},
     "output_type": "display_data"
    }
   ],
   "source": [
    "df[['title', 'votes', 'genres']].sort_values(by='votes', ascending=False)['genres'].apply(len).hist();"
   ]
  },
  {
   "cell_type": "code",
   "execution_count": 69,
   "metadata": {},
   "outputs": [],
   "source": [
    "df['genre'] = df['genres'].apply(set)"
   ]
  },
  {
   "cell_type": "code",
   "execution_count": 86,
   "metadata": {},
   "outputs": [],
   "source": [
    "use_genres = df.genre.value_counts().index[df.genre.value_counts() >= 4].tolist()"
   ]
  },
  {
   "cell_type": "code",
   "execution_count": 93,
   "metadata": {},
   "outputs": [],
   "source": [
    "df = df[df.genre.isin(use_genres)].sort_values(by='votes', ascending=False).reset_index(drop=True)"
   ]
  },
  {
   "cell_type": "code",
   "execution_count": 99,
   "metadata": {},
   "outputs": [
    {
     "data": {
      "text/plain": [
       "9.0"
      ]
     },
     "execution_count": 99,
     "metadata": {},
     "output_type": "execute_result"
    }
   ],
   "source": [
    "np.median(df.genre.value_counts().values) "
   ]
  },
  {
   "cell_type": "code",
   "execution_count": 111,
   "metadata": {},
   "outputs": [],
   "source": [
    "df['genre'] = df['genre'].apply(lambda x: \" - \".join(list(x)))"
   ]
  },
  {
   "cell_type": "code",
   "execution_count": 113,
   "metadata": {},
   "outputs": [],
   "source": [
    "df = df.groupby('genre', as_index=False).head(np.median(df.genre.value_counts().values))"
   ]
  },
  {
   "cell_type": "code",
   "execution_count": 122,
   "metadata": {},
   "outputs": [],
   "source": [
    "from sklearn.preprocessing import LabelEncoder"
   ]
  },
  {
   "cell_type": "code",
   "execution_count": 123,
   "metadata": {},
   "outputs": [
    {
     "name": "stderr",
     "output_type": "stream",
     "text": [
      "/tmp/ipykernel_29725/2718046439.py:3: SettingWithCopyWarning: \n",
      "A value is trying to be set on a copy of a slice from a DataFrame.\n",
      "Try using .loc[row_indexer,col_indexer] = value instead\n",
      "\n",
      "See the caveats in the documentation: https://pandas.pydata.org/pandas-docs/stable/user_guide/indexing.html#returning-a-view-versus-a-copy\n",
      "  df['genre_id'] = label_encoder.fit_transform(df['genre'])\n"
     ]
    }
   ],
   "source": [
    "df = df[['id', 'title', 'plot outline', 'genre']]\n",
    "label_encoder = LabelEncoder()\n",
    "df['genre_id'] = label_encoder.fit_transform(df['genre'])"
   ]
  },
  {
   "cell_type": "code",
   "execution_count": 128,
   "metadata": {},
   "outputs": [],
   "source": [
    "df = df.sample(frac=1, random_state=0).reset_index(drop=True)"
   ]
  },
  {
   "cell_type": "code",
   "execution_count": 130,
   "metadata": {},
   "outputs": [],
   "source": [
    "total_samples = len(df)\n",
    "train_samples = int(total_samples * 0.5)\n",
    "dev_samples = int(total_samples * 0.25)\n",
    "test_samples = total_samples - train_samples - dev_samples"
   ]
  },
  {
   "cell_type": "code",
   "execution_count": 131,
   "metadata": {},
   "outputs": [],
   "source": [
    "splits = ['train'] * train_samples + ['dev'] * dev_samples + ['test'] * test_samples\n",
    "np.random.shuffle(splits)\n",
    "df['split'] = splits"
   ]
  },
  {
   "cell_type": "code",
   "execution_count": 133,
   "metadata": {},
   "outputs": [
    {
     "data": {
      "text/plain": [
       "split\n",
       "train    2142\n",
       "test     1072\n",
       "dev      1071\n",
       "Name: count, dtype: int64"
      ]
     },
     "execution_count": 133,
     "metadata": {},
     "output_type": "execute_result"
    }
   ],
   "source": [
    "df.split.value_counts()"
   ]
  },
  {
   "cell_type": "code",
   "execution_count": 138,
   "metadata": {},
   "outputs": [],
   "source": [
    "df = df.rename(columns={\"id\": \"image_path\"})\n",
    "df['image_path'] = df['image_path'] + '.jpeg'"
   ]
  },
  {
   "cell_type": "code",
   "execution_count": 139,
   "metadata": {},
   "outputs": [
    {
     "data": {
      "text/html": [
       "<div>\n",
       "<style scoped>\n",
       "    .dataframe tbody tr th:only-of-type {\n",
       "        vertical-align: middle;\n",
       "    }\n",
       "\n",
       "    .dataframe tbody tr th {\n",
       "        vertical-align: top;\n",
       "    }\n",
       "\n",
       "    .dataframe thead th {\n",
       "        text-align: right;\n",
       "    }\n",
       "</style>\n",
       "<table border=\"1\" class=\"dataframe\">\n",
       "  <thead>\n",
       "    <tr style=\"text-align: right;\">\n",
       "      <th></th>\n",
       "      <th>image_path</th>\n",
       "      <th>title</th>\n",
       "      <th>plot outline</th>\n",
       "      <th>genre</th>\n",
       "      <th>genre_id</th>\n",
       "      <th>split</th>\n",
       "    </tr>\n",
       "  </thead>\n",
       "  <tbody>\n",
       "    <tr>\n",
       "      <th>0</th>\n",
       "      <td>0995739.jpeg</td>\n",
       "      <td>Naam yi boon sik</td>\n",
       "      <td>Three cops team up to bring down a criminal ga...</td>\n",
       "      <td>Crime - Action</td>\n",
       "      <td>164</td>\n",
       "      <td>train</td>\n",
       "    </tr>\n",
       "    <tr>\n",
       "      <th>1</th>\n",
       "      <td>0077598.jpeg</td>\n",
       "      <td>Gates of Heaven</td>\n",
       "      <td>A documentary about a pet cemetery in Californ...</td>\n",
       "      <td>Drama - Comedy - Documentary</td>\n",
       "      <td>265</td>\n",
       "      <td>train</td>\n",
       "    </tr>\n",
       "    <tr>\n",
       "      <th>2</th>\n",
       "      <td>0100029.jpeg</td>\n",
       "      <td>Lionheart</td>\n",
       "      <td>Lyon Gaultier is a deserter in the Foreign Leg...</td>\n",
       "      <td>Sport - Drama - Action</td>\n",
       "      <td>574</td>\n",
       "      <td>train</td>\n",
       "    </tr>\n",
       "    <tr>\n",
       "      <th>3</th>\n",
       "      <td>0081558.jpeg</td>\n",
       "      <td>Steel</td>\n",
       "      <td>Mike Catton was once a world-renowned construc...</td>\n",
       "      <td>Adventure - Crime - Drama - Action</td>\n",
       "      <td>40</td>\n",
       "      <td>train</td>\n",
       "    </tr>\n",
       "    <tr>\n",
       "      <th>4</th>\n",
       "      <td>0075807.jpeg</td>\n",
       "      <td>Candleshoe</td>\n",
       "      <td>Small-time crook Harry Bundage discovers that ...</td>\n",
       "      <td>Drama - Family - Comedy - Adventure</td>\n",
       "      <td>278</td>\n",
       "      <td>train</td>\n",
       "    </tr>\n",
       "    <tr>\n",
       "      <th>...</th>\n",
       "      <td>...</td>\n",
       "      <td>...</td>\n",
       "      <td>...</td>\n",
       "      <td>...</td>\n",
       "      <td>...</td>\n",
       "      <td>...</td>\n",
       "    </tr>\n",
       "    <tr>\n",
       "      <th>4280</th>\n",
       "      <td>1924396.jpeg</td>\n",
       "      <td>La migliore offerta</td>\n",
       "      <td>In the world of high-end art auctions and anti...</td>\n",
       "      <td>Crime - Drama - Mystery - Romance</td>\n",
       "      <td>201</td>\n",
       "      <td>train</td>\n",
       "    </tr>\n",
       "    <tr>\n",
       "      <th>4281</th>\n",
       "      <td>0336693.jpeg</td>\n",
       "      <td>Khaneh siah ast</td>\n",
       "      <td>Set in a leper colony in the north of Iran, Th...</td>\n",
       "      <td>Short - Documentary</td>\n",
       "      <td>558</td>\n",
       "      <td>dev</td>\n",
       "    </tr>\n",
       "    <tr>\n",
       "      <th>4282</th>\n",
       "      <td>0419749.jpeg</td>\n",
       "      <td>Find Me Guilty</td>\n",
       "      <td>Based on the true story of Jack DiNorscio, a m...</td>\n",
       "      <td>Biography - Crime - Drama - Comedy</td>\n",
       "      <td>82</td>\n",
       "      <td>train</td>\n",
       "    </tr>\n",
       "    <tr>\n",
       "      <th>4283</th>\n",
       "      <td>0044760.jpeg</td>\n",
       "      <td>Ivanhoe</td>\n",
       "      <td>A knight seeks to free the captive King Richar...</td>\n",
       "      <td>Romance - Drama - History - Adventure</td>\n",
       "      <td>525</td>\n",
       "      <td>dev</td>\n",
       "    </tr>\n",
       "    <tr>\n",
       "      <th>4284</th>\n",
       "      <td>0120512.jpeg</td>\n",
       "      <td>Wild America</td>\n",
       "      <td>Three brothers - Marshall, Marty and Mark drea...</td>\n",
       "      <td>Adventure - Family - Comedy - Action</td>\n",
       "      <td>51</td>\n",
       "      <td>train</td>\n",
       "    </tr>\n",
       "  </tbody>\n",
       "</table>\n",
       "<p>4285 rows × 6 columns</p>\n",
       "</div>"
      ],
      "text/plain": [
       "        image_path                title  \\\n",
       "0     0995739.jpeg     Naam yi boon sik   \n",
       "1     0077598.jpeg      Gates of Heaven   \n",
       "2     0100029.jpeg            Lionheart   \n",
       "3     0081558.jpeg                Steel   \n",
       "4     0075807.jpeg           Candleshoe   \n",
       "...            ...                  ...   \n",
       "4280  1924396.jpeg  La migliore offerta   \n",
       "4281  0336693.jpeg      Khaneh siah ast   \n",
       "4282  0419749.jpeg       Find Me Guilty   \n",
       "4283  0044760.jpeg              Ivanhoe   \n",
       "4284  0120512.jpeg         Wild America   \n",
       "\n",
       "                                           plot outline  \\\n",
       "0     Three cops team up to bring down a criminal ga...   \n",
       "1     A documentary about a pet cemetery in Californ...   \n",
       "2     Lyon Gaultier is a deserter in the Foreign Leg...   \n",
       "3     Mike Catton was once a world-renowned construc...   \n",
       "4     Small-time crook Harry Bundage discovers that ...   \n",
       "...                                                 ...   \n",
       "4280  In the world of high-end art auctions and anti...   \n",
       "4281  Set in a leper colony in the north of Iran, Th...   \n",
       "4282  Based on the true story of Jack DiNorscio, a m...   \n",
       "4283  A knight seeks to free the captive King Richar...   \n",
       "4284  Three brothers - Marshall, Marty and Mark drea...   \n",
       "\n",
       "                                      genre  genre_id  split  \n",
       "0                            Crime - Action       164  train  \n",
       "1              Drama - Comedy - Documentary       265  train  \n",
       "2                    Sport - Drama - Action       574  train  \n",
       "3        Adventure - Crime - Drama - Action        40  train  \n",
       "4       Drama - Family - Comedy - Adventure       278  train  \n",
       "...                                     ...       ...    ...  \n",
       "4280      Crime - Drama - Mystery - Romance       201  train  \n",
       "4281                    Short - Documentary       558    dev  \n",
       "4282     Biography - Crime - Drama - Comedy        82  train  \n",
       "4283  Romance - Drama - History - Adventure       525    dev  \n",
       "4284   Adventure - Family - Comedy - Action        51  train  \n",
       "\n",
       "[4285 rows x 6 columns]"
      ]
     },
     "execution_count": 139,
     "metadata": {},
     "output_type": "execute_result"
    }
   ],
   "source": [
    "df"
   ]
  },
  {
   "cell_type": "code",
   "execution_count": 142,
   "metadata": {},
   "outputs": [],
   "source": [
    "import os\n",
    "import shutil"
   ]
  },
  {
   "cell_type": "code",
   "execution_count": 144,
   "metadata": {},
   "outputs": [],
   "source": [
    "for path in df.image_path.tolist():\n",
    "    shutil.copy(f'tests/data/mmimdb/dataset/{path}', f'tests/data/tinymmimdb/images/{path}')"
   ]
  },
  {
   "cell_type": "code",
   "execution_count": 145,
   "metadata": {},
   "outputs": [],
   "source": [
    "df.to_csv('tests/data/tinymmimdb/data.csv', index=False)"
   ]
  }
 ],
 "metadata": {
  "kernelspec": {
   "display_name": ".venv",
   "language": "python",
   "name": "python3"
  },
  "language_info": {
   "codemirror_mode": {
    "name": "ipython",
    "version": 3
   },
   "file_extension": ".py",
   "mimetype": "text/x-python",
   "name": "python",
   "nbconvert_exporter": "python",
   "pygments_lexer": "ipython3",
   "version": "3.10.6"
  },
  "orig_nbformat": 4
 },
 "nbformat": 4,
 "nbformat_minor": 2
}
